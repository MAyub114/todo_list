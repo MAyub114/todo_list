{
 "cells": [
  {
   "cell_type": "code",
   "execution_count": 2,
   "metadata": {},
   "outputs": [],
   "source": [
    "import solara"
   ]
  },
  {
   "cell_type": "code",
   "execution_count": null,
   "metadata": {},
   "outputs": [],
   "source": [
    "text_input = solara.reactive(\"\")\n",
    "todos = solara.reactive([\n",
    "    { \"text\": solara.reactive(\"Learn Solara\"), \"done\": solara.reactive(False) },\n",
    "    { \"text\": solara.reactive(\"Build a Solara app\"), \"done\": solara.reactive(False) }\n",
    "])\n",
    "\n",
    "def on_add_todo():\n",
    "    todos.set(todos.value + [{\n",
    "        \"text\": solara.Reactive(text_input.value),\n",
    "        \"done\": solara.Reactive(False)\n",
    "    }])\n",
    "    text_input.set(\"\")\n",
    "\n",
    "def clear_finished_todos():\n",
    "    todos.set([todo for todo in todos.value if not todo[\"done\"].value])\n",
    "\n",
    "@solara.component\n",
    "def Todo(todo):\n",
    "    # define a local state, only for this component\n",
    "    editing, set_editing = solara.use_state(False)\n",
    "\n",
    "    # size of 0 will take minimum space\n",
    "    with solara.Columns([1, 0]):\n",
    "        # set background color based on done state\n",
    "        color = \"#d6ffd6\" if todo[\"done\"].value else \"initial\"\n",
    "        # some css to make it look nice\n",
    "        with solara.Column(style=f\"padding: 1em; width: 400px; background-color: {color};\"):\n",
    "            # if editing is true, the item can be edited\n",
    "            if editing:\n",
    "                solara.InputText(label=\"Edit todo\", value=todo[\"text\"])\n",
    "            else:\n",
    "                solara.Checkbox(label=todo[\"text\"].value, value=todo[\"done\"])\n",
    "\n",
    "        # buttons to edit/save and delete\n",
    "        solara.Column(children=[\n",
    "            (\n",
    "                solara.IconButton(icon_name=\"save\", on_click=lambda: set_editing(False))\n",
    "                if editing \n",
    "                else \n",
    "                solara.IconButton(icon_name=\"edit\", on_click=lambda: set_editing(True))\n",
    "            ),\n",
    "            solara.IconButton(icon_name=\"delete\", on_click=lambda: todos.set([t for t in todos.value if t != todo]))\n",
    "        ])\n",
    "\n",
    "@solara.component\n",
    "def Page():\n",
    "    solara.Style(\"\"\"\n",
    "        .add-button {\n",
    "            margin-right: 10px;\n",
    "        }\n",
    "    \"\"\")\n",
    "\n",
    "    # to center card \n",
    "    with solara.Column(align=\"center\"):\n",
    "        with solara.Card(title=\"Todo App\"):\n",
    "            for todo in todos.value:\n",
    "                Todo(todo)\n",
    "            if len(todos.value) == 0:\n",
    "                solara.Text(\"No todos yet.\")\n",
    "            \n",
    "            solara.InputText(label=\"Add a todo\", value=text_input),\n",
    "            solara.Button(\"Add\", on_click=on_add_todo, classes=[\"primary\", \"add-button\"]),\n",
    "            solara.Button(\"Remove finished tasks\", classes=[\"secondary\"], on_click=clear_finished_todos),\n",
    "\n",
    "Page()"
   ]
  }
 ],
 "metadata": {
  "kernelspec": {
   "display_name": "Python 3",
   "language": "python",
   "name": "python3"
  },
  "language_info": {
   "codemirror_mode": {
    "name": "ipython",
    "version": 3
   },
   "file_extension": ".py",
   "mimetype": "text/x-python",
   "name": "python",
   "nbconvert_exporter": "python",
   "pygments_lexer": "ipython3",
   "version": "3.10.8"
  },
  "orig_nbformat": 4
 },
 "nbformat": 4,
 "nbformat_minor": 2
}
